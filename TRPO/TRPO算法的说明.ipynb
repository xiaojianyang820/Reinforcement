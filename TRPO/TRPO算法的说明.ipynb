{
 "cells": [
  {
   "cell_type": "markdown",
   "metadata": {},
   "source": [
    "# TRPO方法的基本思想\n",
    "\n",
    "Trust Region Policy Optimize（TRPO）方法的中文含义是可信任区域内策略优化。首先它的基本思想还是策略迭代，即目标函数为：\n",
    "$$\n",
    "   \\theta = \\operatorname*{argmax}_{\\theta} \\mathcal{L}(\\theta_k, \\theta) = \\operatorname*{\\mathbb{E}}_{s,a \\sim \\pi_{\\theta_k}} [\\frac{\\pi_{\\theta}(a|s)}{\\pi_{\\theta_k}(a|s)} A^{\\pi_{\\theta_k}}(s,a)]\n",
    "$$\n",
    "这个优化目标的含义是说如果构造了一个相对准确的优势估计函数$A^{\\pi_{\\theta_k}}(s,a)$，那么对策略网络参数的修正肯定是希望能带来正向优势的行动出现的概率增大，出现负向优势的行动出现的概率减少，对其进行梯度上升，就可以寻找到最有利的参数修正方向。"
   ]
  },
  {
   "cell_type": "code",
   "execution_count": null,
   "metadata": {},
   "outputs": [],
   "source": []
  }
 ],
 "metadata": {
  "kernelspec": {
   "display_name": "Python 3",
   "language": "python",
   "name": "python3"
  },
  "language_info": {
   "codemirror_mode": {
    "name": "ipython",
    "version": 3
   },
   "file_extension": ".py",
   "mimetype": "text/x-python",
   "name": "python",
   "nbconvert_exporter": "python",
   "pygments_lexer": "ipython3",
   "version": "3.8.3"
  }
 },
 "nbformat": 4,
 "nbformat_minor": 4
}
